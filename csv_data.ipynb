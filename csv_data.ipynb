{
 "metadata": {
  "name": ""
 },
 "nbformat": 3,
 "nbformat_minor": 0,
 "worksheets": [
  {
   "cells": [
    {
     "cell_type": "code",
     "collapsed": false,
     "input": [
      "import numpy as np"
     ],
     "language": "python",
     "metadata": {},
     "outputs": [],
     "prompt_number": 1
    },
    {
     "cell_type": "code",
     "collapsed": false,
     "input": [
      "!head -20 eng-hourly-08012013-08312013.csv"
     ],
     "language": "python",
     "metadata": {},
     "outputs": [
      {
       "output_type": "stream",
       "stream": "stdout",
       "text": [
        "\"Station Name\",\"VANCOUVER INTL A\"\r\n",
        "\"Province\",\"BRITISH COLUMBIA\"\r\n",
        "\"Latitude\",\"49.19\"\r\n",
        "\"Longitude\",\"-123.18\"\r\n",
        "\"Elevation\",\"4.30\"\r\n",
        "\"Climate Identifier\",\"1108395\"\r\n",
        "\"WMO Identifier\",\"71892\"\r\n",
        "\"TC Identifier\",\"YVR\"\r\n",
        "\"All times are specified in Local Standard Time (LST). Add 1 hour to adjust for Daylight Saving Time where and when it is observed.\"\r\n",
        "\r\n",
        "\"Legend\"\r\n",
        "\"M\",\"Missing\"\r\n",
        "\"E\",\"Estimated\"\r\n",
        "\"NA\",\"Not Available\"\r\n",
        "\"**\",\"Partner data that is not subject to review by the National Climate Archives\"\r\n",
        "\r\n",
        "\"Date/Time\",\"Year\",\"Month\",\"Day\",\"Time\",\"Data Quality\",\"Temp (\ufffdC)\",\"Temp Flag\",\"Dew Point Temp (\ufffdC)\",\"Dew Point Temp Flag\",\"Rel Hum (%)\",\"Rel Hum Flag\",\"Wind Dir (10s deg)\",\"Wind Dir Flag\",\"Wind Spd (km/h)\",\"Wind Spd Flag\",\"Visibility (km)\",\"Visibility Flag\",\"Stn Press (kPa)\",\"Stn Press Flag\",\"Hmdx\",\"Hmdx Flag\",\"Wind Chill\",\"Wind Chill Flag\",\"Weather\"\r\n",
        "\"2013-08-01 00:00\",\"2013\",\"08\",\"01\",\"00:00\",\"**\",\"18.7\",\"\",\"14.6\",\"\",\"77\",\"\",\"13\",\"\",\"3\",\"\",\"32.2\",\"\",\"101.60\",\"\",\"\",\"\",\"\",\"\",\"Rain\"\r\n",
        "\"2013-08-01 01:00\",\"2013\",\"08\",\"01\",\"01:00\",\"**\",\"18.4\",\"\",\"15.1\",\"\",\"81\",\"\",\"1\",\"\",\"5\",\"\",\"32.2\",\"\",\"101.57\",\"\",\"\",\"\",\"\",\"\",\"Cloudy\"\r\n",
        "\"2013-08-01 02:00\",\"2013\",\"08\",\"01\",\"02:00\",\"**\",\"17.8\",\"\",\"16.0\",\"\",\"89\",\"\",\"18\",\"\",\"9\",\"\",\"24.1\",\"\",\"101.57\",\"\",\"\",\"\",\"\",\"\",\"Rain\"\r\n"
       ]
      }
     ],
     "prompt_number": 6
    },
    {
     "cell_type": "code",
     "collapsed": false,
     "input": [
      "data = np.genfromtxt('eng-hourly-08012013-08312013.csv', delimiter ='\",\"',skiprows=16)"
     ],
     "language": "python",
     "metadata": {},
     "outputs": [],
     "prompt_number": 7
    },
    {
     "cell_type": "code",
     "collapsed": false,
     "input": [
      "data[-1]"
     ],
     "language": "python",
     "metadata": {},
     "outputs": [
      {
       "metadata": {},
       "output_type": "pyout",
       "prompt_number": 10,
       "text": [
        "array([     nan,  2013.  ,     8.  ,    31.  ,      nan,      nan,\n",
        "          15.5 ,      nan,    14.6 ,      nan,    94.  ,      nan,\n",
        "          34.  ,      nan,    10.  ,      nan,    32.2 ,      nan,\n",
        "         101.02,      nan,      nan,      nan,      nan,      nan,      nan])"
       ]
      }
     ],
     "prompt_number": 10
    },
    {
     "cell_type": "code",
     "collapsed": false,
     "input": [
      "!tail -1 eng-hourly-08012013-08312013.csv"
     ],
     "language": "python",
     "metadata": {},
     "outputs": [
      {
       "output_type": "stream",
       "stream": "stdout",
       "text": [
        "\"2013-08-31 23:00\",\"2013\",\"08\",\"31\",\"23:00\",\"**\",\"15.5\",\"\",\"14.6\",\"\",\"94\",\"\",\"34\",\"\",\"10\",\"\",\"32.2\",\"\",\"101.02\",\"\",\"\",\"\",\"\",\"\",\"NA\"\r\n"
       ]
      }
     ],
     "prompt_number": 12
    },
    {
     "cell_type": "code",
     "collapsed": false,
     "input": [
      "data.dtype"
     ],
     "language": "python",
     "metadata": {},
     "outputs": [
      {
       "metadata": {},
       "output_type": "pyout",
       "prompt_number": 13,
       "text": [
        "dtype('float64')"
       ]
      }
     ],
     "prompt_number": 13
    },
    {
     "cell_type": "code",
     "collapsed": false,
     "input": [
      "data = np.genfromtxt('eng-hourly-08012013-08312013.csv', delimiter ='\",\"',skiprows=15, names=True)"
     ],
     "language": "python",
     "metadata": {},
     "outputs": [],
     "prompt_number": 14
    },
    {
     "cell_type": "code",
     "collapsed": false,
     "input": [
      "data.dtype"
     ],
     "language": "python",
     "metadata": {},
     "outputs": [
      {
       "metadata": {},
       "output_type": "pyout",
       "prompt_number": 15,
       "text": [
        "dtype([('DateTime', '<f8'), ('Year', '<f8'), ('Month', '<f8'), ('Day', '<f8'), ('Time', '<f8'), ('Data_Quality', '<f8'), ('Temp_\\xb0C', '<f8'), ('Temp_Flag', '<f8'), ('Dew_Point_Temp_\\xb0C', '<f8'), ('Dew_Point_Temp_Flag', '<f8'), ('Rel_Hum_', '<f8'), ('Rel_Hum_Flag', '<f8'), ('Wind_Dir_10s_deg', '<f8'), ('Wind_Dir_Flag', '<f8'), ('Wind_Spd_kmh', '<f8'), ('Wind_Spd_Flag', '<f8'), ('Visibility_km', '<f8'), ('Visibility_Flag', '<f8'), ('Stn_Press_kPa', '<f8'), ('Stn_Press_Flag', '<f8'), ('Hmdx', '<f8'), ('Hmdx_Flag', '<f8'), ('Wind_Chill', '<f8'), ('Wind_Chill_Flag', '<f8'), ('Weather', '<f8')])"
       ]
      }
     ],
     "prompt_number": 15
    },
    {
     "cell_type": "code",
     "collapsed": false,
     "input": [
      "def read_climate_file(filename):\n",
      "    \"\"\"Read an Enviro Canda climate data CSV file and return it's data.\"\"\"\n",
      "    data = np.genfromtxt(filename, delimter='\",\"',skiprows=15,name= True)\n",
      "    new_dtype=fix_dtype(data.dtype)\n",
      "    data = np.genfromtxt(filename, delimter='\",\"',skiprows=16, dtype=new_dtype)\n",
      "    return data \n",
      "!tail -1 eng-hourly-08012013-08312013.csv\n",
      "print\n",
      "data = read_climate_file('eng-hourly-08012013-08312013.csv')\n",
      "print data[0]\n",
      "print data[-1]\n",
      "print \n",
      "for x in data.dtype.descr:\n",
      "    print x"
     ],
     "language": "python",
     "metadata": {},
     "outputs": [
      {
       "ename": "SyntaxError",
       "evalue": "'return' outside function (<ipython-input-6-9211d7f3fc1e>, line 6)",
       "output_type": "pyerr",
       "traceback": [
        "\u001b[0;36m  File \u001b[0;32m\"<ipython-input-6-9211d7f3fc1e>\"\u001b[0;36m, line \u001b[0;32m6\u001b[0m\n\u001b[0;31m    return data\u001b[0m\n\u001b[0;31mSyntaxError\u001b[0m\u001b[0;31m:\u001b[0m 'return' outside function\n"
       ]
      }
     ],
     "prompt_number": 6
    },
    {
     "cell_type": "code",
     "collapsed": false,
     "input": [],
     "language": "python",
     "metadata": {},
     "outputs": []
    }
   ],
   "metadata": {}
  }
 ]
}